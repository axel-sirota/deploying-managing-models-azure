{
 "cells": [
  {
   "cell_type": "code",
   "execution_count": 1,
   "metadata": {},
   "outputs": [
    {
     "name": "stderr",
     "output_type": "stream",
     "text": [
      "Failure while loading azureml_run_type_providers. Failed to load entrypoint azureml.scriptrun = azureml.core.script_run:ScriptRun._from_run_dto with exception (azure-mgmt-resource 20.0.0 (/Users/axelsirota/repos/deploying-managing-models-azure/.venv/lib/python3.7/site-packages), Requirement.parse('azure-mgmt-resource<15.0.0,>=1.2.1')).\n"
     ]
    }
   ],
   "source": [
    "from azureml.core.workspace import Workspace\n",
    "\n",
    "ws = Workspace.from_config()"
   ]
  },
  {
   "cell_type": "code",
   "execution_count": 2,
   "metadata": {},
   "outputs": [
    {
     "name": "stdout",
     "output_type": "stream",
     "text": [
      "Registering model sklearn_regression_model.pkl\n",
      "Name: sklearn_regression_model.pkl\n",
      "Version: 2\n"
     ]
    }
   ],
   "source": [
    "from azureml.core import Model\n",
    "\n",
    "model = Model.register(workspace=ws,\n",
    "                       model_name='sklearn_regression_model.pkl',                # Name of the registered model in your workspace.\n",
    "                       model_path='./sklearn_regression_model.pkl',  # Local file to upload and register as a model.\n",
    "                       model_framework=Model.Framework.SCIKITLEARN,  # Framework used to create the model.\n",
    "                       model_framework_version='0.24.1',             # Version of scikit-learn used to create the model.\n",
    "                       description='Ridge regression model to predict diabetes progression.',\n",
    "                       tags={'area': 'diabetes', 'type': 'regression'})\n",
    "\n",
    "print('Name:', model.name)\n",
    "print('Version:', model.version)"
   ]
  },
  {
   "cell_type": "code",
   "execution_count": 3,
   "metadata": {},
   "outputs": [
    {
     "name": "stdout",
     "output_type": "stream",
     "text": [
      "Overwriting requirements_env.txt\n"
     ]
    }
   ],
   "source": [
    "%%writefile \"requirements_env.txt\"\n",
    "\n",
    "azureml-defaults\n",
    "azureml-core\n",
    "inference-schema[numpy-support]\n",
    "numpy\n",
    "scikit-learn==0.24.1\n",
    "scipy\n",
    "joblib\n"
   ]
  },
  {
   "cell_type": "code",
   "execution_count": 4,
   "metadata": {},
   "outputs": [
    {
     "data": {
      "text/plain": [
       "{\n",
       "    \"databricks\": {\n",
       "        \"eggLibraries\": [],\n",
       "        \"jarLibraries\": [],\n",
       "        \"mavenLibraries\": [],\n",
       "        \"pypiLibraries\": [],\n",
       "        \"rcranLibraries\": []\n",
       "    },\n",
       "    \"docker\": {\n",
       "        \"arguments\": [],\n",
       "        \"baseDockerfile\": null,\n",
       "        \"baseImage\": \"mcr.microsoft.com/azureml/openmpi3.1.2-ubuntu18.04:20211029.v1\",\n",
       "        \"baseImageRegistry\": {\n",
       "            \"address\": null,\n",
       "            \"password\": null,\n",
       "            \"registryIdentity\": null,\n",
       "            \"username\": null\n",
       "        },\n",
       "        \"enabled\": false,\n",
       "        \"platform\": {\n",
       "            \"architecture\": \"amd64\",\n",
       "            \"os\": \"Linux\"\n",
       "        },\n",
       "        \"sharedVolumes\": true,\n",
       "        \"shmSize\": null\n",
       "    },\n",
       "    \"environmentVariables\": {\n",
       "        \"EXAMPLE_ENV_VAR\": \"EXAMPLE_VALUE\"\n",
       "    },\n",
       "    \"inferencingStackVersion\": null,\n",
       "    \"name\": \"my-sklearn-environment\",\n",
       "    \"python\": {\n",
       "        \"baseCondaEnvironment\": null,\n",
       "        \"condaDependencies\": {\n",
       "            \"channels\": [\n",
       "                \"anaconda\",\n",
       "                \"conda-forge\"\n",
       "            ],\n",
       "            \"dependencies\": [\n",
       "                \"python=3.6.2\",\n",
       "                {\n",
       "                    \"pip\": [\n",
       "                        \"\",\n",
       "                        \"azureml-defaults\",\n",
       "                        \"azureml-core\",\n",
       "                        \"inference-schema[numpy-support]\",\n",
       "                        \"numpy\",\n",
       "                        \"scikit-learn==0.24.1\",\n",
       "                        \"scipy\",\n",
       "                        \"joblib\"\n",
       "                    ]\n",
       "                },\n",
       "                \"pip\"\n",
       "            ],\n",
       "            \"name\": \"azureml_1996b27e5c17a112b9ac97cde686c5c3\"\n",
       "        },\n",
       "        \"condaDependenciesFile\": null,\n",
       "        \"interpreterPath\": \"python\",\n",
       "        \"userManagedDependencies\": false\n",
       "    },\n",
       "    \"r\": null,\n",
       "    \"spark\": {\n",
       "        \"packages\": [],\n",
       "        \"precachePackages\": true,\n",
       "        \"repositories\": []\n",
       "    },\n",
       "    \"version\": \"4\"\n",
       "}"
      ]
     },
     "execution_count": 4,
     "metadata": {},
     "output_type": "execute_result"
    }
   ],
   "source": [
    "from azureml.core import Environment\n",
    "\n",
    "environment=Environment.from_pip_requirements('my-sklearn-environment', file_path=\"requirements_env.txt\")\n",
    "environment.register(ws)"
   ]
  },
  {
   "cell_type": "code",
   "execution_count": 5,
   "metadata": {},
   "outputs": [],
   "source": [
    "from azureml.core.model import InferenceConfig\n",
    "\n",
    "inference_config = InferenceConfig(entry_script='scoring_script.py', \n",
    "                                   source_directory='.',\n",
    "                                   environment=environment)"
   ]
  },
  {
   "cell_type": "code",
   "execution_count": 6,
   "metadata": {},
   "outputs": [
    {
     "name": "stdout",
     "output_type": "stream",
     "text": [
      "Found existing cluster, use it.\n"
     ]
    }
   ],
   "source": [
    "\n",
    "\n",
    "from azureml.core.compute import AksCompute\n",
    "from azureml.core.compute import ComputeTarget\n",
    "# Use the default configuration (can also provide parameters to customize)\n",
    "prov_config = AksCompute.provisioning_configuration(cluster_purpose=\"DevTest\")\n",
    "\n",
    "aks_name = 'my-aks-dev' \n",
    "try:\n",
    "    aks_target = ComputeTarget(workspace=ws, name=aks_name)\n",
    "    print('Found existing cluster, use it.')\n",
    "except ComputeTargetException:\n",
    "# Create the cluster\n",
    "    aks_target = ComputeTarget.create(workspace = ws, \n",
    "                                    name = aks_name, \n",
    "                                    provisioning_configuration = prov_config) \n",
    "if aks_target.get_status() != \"Succeeded\":\n",
    "    aks_target.wait_for_completion(show_output=True)\n",
    "\n"
   ]
  },
  {
   "cell_type": "code",
   "execution_count": 7,
   "metadata": {},
   "outputs": [
    {
     "name": "stdout",
     "output_type": "stream",
     "text": [
      "myendpoint1yeuzy\n",
      "Tips: You can try get_logs(): https://aka.ms/debugimage#dockerlog or local deployment: https://aka.ms/debugimage#debug-locally to debug if deployment takes longer than 10 minutes.\n",
      "Running\n",
      "2021-12-13 00:35:11-03:00 Creating Container Registry if not exists.\n",
      "2021-12-13 00:35:11-03:00 Registering the environment.\n",
      "2021-12-13 00:35:13-03:00 Building image for version1..\n",
      "2021-12-13 00:46:29-03:00 Creating resources in AKS.\n",
      "2021-12-13 00:46:29-03:00 Submitting deployment to compute.\n",
      "2021-12-13 00:46:30-03:00 Checking the status of deployment version1..\n",
      "2021-12-13 00:47:20-03:00 Checking the status of inference endpoint version1.\n",
      "Succeeded\n",
      "AKSENDPOINT service creation operation finished, operation \"Succeeded\"\n"
     ]
    }
   ],
   "source": [
    "# deploying the model and create a new endpoint\n",
    "from azureml.core.webservice import AksEndpoint\n",
    "import string\n",
    "import random\n",
    "from azureml.core.compute import ComputeTarget\n",
    "\n",
    "#select a created compute\n",
    "compute = ComputeTarget(ws, 'my-aks-dev')\n",
    "namespace_name=\"endpointnamespace\"\n",
    "# define the endpoint name\n",
    "endpoint_name = f\"myendpoint1{''.join(random.choice(string.ascii_lowercase) for _ in range(5))}\"[:32]\n",
    "# define the service name\n",
    "print(endpoint_name)\n",
    "version_name= \"version1\"\n",
    "\n",
    "endpoint_deployment_config = AksEndpoint.deploy_configuration(tags = {'modelVersion':'firstversion', 'department':'finance'}, \n",
    "                                                              description = \"my first version\", namespace = namespace_name, \n",
    "                                                              version_name = version_name, traffic_percentile = 40, )\n",
    "\n",
    "endpoint = Model.deploy(ws, endpoint_name, [model], inference_config, endpoint_deployment_config, compute)\n",
    "endpoint.wait_for_deployment(True)"
   ]
  },
  {
   "cell_type": "code",
   "execution_count": 8,
   "metadata": {},
   "outputs": [
    {
     "name": "stdout",
     "output_type": "stream",
     "text": [
      "Tips: You can try get_logs(): https://aka.ms/debugimage#dockerlog or local deployment: https://aka.ms/debugimage#debug-locally to debug if deployment takes longer than 10 minutes.\n",
      "Running\n",
      "2021-12-13 00:50:32-03:00 Creating Container Registry if not exists.\n",
      "2021-12-13 00:50:33-03:00 Registering the environment.\n",
      "2021-12-13 00:50:34-03:00 Use the existing image for version1.\n",
      "2021-12-13 00:50:36-03:00 Creating resources in AKS.\n",
      "2021-12-13 00:50:37-03:00 Submitting deployment to compute.\n",
      "2021-12-13 00:50:37-03:00 Checking the status of deployment version1..\n",
      "2021-12-13 00:51:16-03:00 Checking the status of deployment version2..\n",
      "2021-12-13 00:51:26-03:00 Checking the status of inference endpoint version1.\n",
      "2021-12-13 00:51:27-03:00 Checking the status of inference endpoint version2.\n",
      "Succeeded\n",
      "AKSENDPOINT service creation operation finished, operation \"Succeeded\"\n"
     ]
    }
   ],
   "source": [
    "version_name_add=\"version2\" \n",
    "\n",
    "endpoint.create_version(version_name = version_name_add, inference_config=inference_config, models=[model], tags = {'modelVersion':'secondversion', 'department':'finance'}, \n",
    "                        description = \"my second version\", traffic_percentile = 10)\n",
    "endpoint.wait_for_deployment(True)\n"
   ]
  },
  {
   "cell_type": "code",
   "execution_count": 9,
   "metadata": {},
   "outputs": [
    {
     "name": "stdout",
     "output_type": "stream",
     "text": [
      "[11055.977245525679, 4503.079536107787]\n"
     ]
    }
   ],
   "source": [
    "import json\n",
    "test_sample = json.dumps({'data': [\n",
    "    [1,2,3,4,5,6,7,8,9,10], \n",
    "    [10,9,8,7,6,5,4,3,2,1]\n",
    "]})\n",
    "\n",
    "test_sample_encoded = bytes(test_sample, encoding='utf8')\n",
    "prediction = endpoint.run(input_data=test_sample_encoded)\n",
    "print(prediction)"
   ]
  },
  {
   "cell_type": "code",
   "execution_count": 10,
   "metadata": {},
   "outputs": [
    {
     "name": "stdout",
     "output_type": "stream",
     "text": [
      "Tips: You can try get_logs(): https://aka.ms/debugimage#dockerlog or local deployment: https://aka.ms/debugimage#debug-locally to debug if deployment takes longer than 10 minutes.\n",
      "Running\n",
      "2021-12-13 00:55:00-03:00 Creating Container Registry if not exists.\n",
      "2021-12-13 00:55:01-03:00 Use the existing image for version2.\n",
      "2021-12-13 00:55:03-03:00 Checking the status of deployment version2..\n",
      "2021-12-13 00:55:25-03:00 Checking the status of inference endpoint version2.\n",
      "Succeeded\n",
      "AKSENDPOINT service creation operation finished, operation \"Succeeded\"\n"
     ]
    }
   ],
   "source": [
    "endpoint.delete_version(version_name=version_name)\n",
    "endpoint.wait_for_deployment(True)"
   ]
  },
  {
   "cell_type": "code",
   "execution_count": 11,
   "metadata": {},
   "outputs": [
    {
     "name": "stdout",
     "output_type": "stream",
     "text": [
      "[11055.977245525679, 4503.079536107787]\n"
     ]
    }
   ],
   "source": [
    "prediction = endpoint.run(input_data=test_sample_encoded)\n",
    "print(prediction)"
   ]
  },
  {
   "cell_type": "code",
   "execution_count": 12,
   "metadata": {},
   "outputs": [],
   "source": [
    "endpoint.delete()"
   ]
  },
  {
   "cell_type": "code",
   "execution_count": null,
   "metadata": {},
   "outputs": [],
   "source": []
  }
 ],
 "metadata": {
  "interpreter": {
   "hash": "3f06bc99cfd41b4fdaac518bc06a2ec94d07676155e0a061000bb699cfd04262"
  },
  "kernelspec": {
   "display_name": "Python 3.7.1 64-bit ('.venv': venv)",
   "language": "python",
   "name": "python3"
  },
  "language_info": {
   "codemirror_mode": {
    "name": "ipython",
    "version": 3
   },
   "file_extension": ".py",
   "mimetype": "text/x-python",
   "name": "python",
   "nbconvert_exporter": "python",
   "pygments_lexer": "ipython3",
   "version": "3.7.1"
  },
  "orig_nbformat": 4
 },
 "nbformat": 4,
 "nbformat_minor": 2
}
